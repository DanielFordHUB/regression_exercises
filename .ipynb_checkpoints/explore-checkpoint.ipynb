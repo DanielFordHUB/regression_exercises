{
 "cells": [
  {
   "cell_type": "code",
   "execution_count": 1,
   "id": "7d7d5099",
   "metadata": {},
   "outputs": [],
   "source": [
    "%matplotlib inline\n",
    "import matplotlib.pyplot as plt\n",
    "import numpy as np\n",
    "import pandas as pd\n",
    "import pydataset\n",
    "import seaborn as sns\n",
    "import itertools\n",
    "from sklearn.neighbors import KNeighborsClassifier\n",
    "from sklearn.preprocessing import MinMaxScaler, StandardScaler, RobustScaler\n",
    "from sklearn.model_selection import train_test_split\n",
    "from wrangle import wrangle_zillow\n",
    "import warnings\n",
    "warnings.filterwarnings(\"ignore\")\n",
    "\n",
    "import dtale\n",
    "#from explore import plot_variable_pairs, plot_categorical_and_continuous_vars"
   ]
  },
  {
   "cell_type": "code",
   "execution_count": 2,
   "id": "cea90d78",
   "metadata": {
    "scrolled": false
   },
   "outputs": [
    {
     "data": {
      "text/html": [
       "<div>\n",
       "<style scoped>\n",
       "    .dataframe tbody tr th:only-of-type {\n",
       "        vertical-align: middle;\n",
       "    }\n",
       "\n",
       "    .dataframe tbody tr th {\n",
       "        vertical-align: top;\n",
       "    }\n",
       "\n",
       "    .dataframe thead th {\n",
       "        text-align: right;\n",
       "    }\n",
       "</style>\n",
       "<table border=\"1\" class=\"dataframe\">\n",
       "  <thead>\n",
       "    <tr style=\"text-align: right;\">\n",
       "      <th></th>\n",
       "      <th>bedrooms</th>\n",
       "      <th>bathrooms</th>\n",
       "      <th>sq_ft</th>\n",
       "      <th>tax_value</th>\n",
       "      <th>year_built</th>\n",
       "      <th>tax_amnt</th>\n",
       "      <th>fips</th>\n",
       "    </tr>\n",
       "  </thead>\n",
       "  <tbody>\n",
       "    <tr>\n",
       "      <th>0</th>\n",
       "      <td>4</td>\n",
       "      <td>2.0</td>\n",
       "      <td>3633</td>\n",
       "      <td>296425</td>\n",
       "      <td>2005</td>\n",
       "      <td>6941.39</td>\n",
       "      <td>6037</td>\n",
       "    </tr>\n",
       "    <tr>\n",
       "      <th>1</th>\n",
       "      <td>3</td>\n",
       "      <td>4.0</td>\n",
       "      <td>1620</td>\n",
       "      <td>847770</td>\n",
       "      <td>2011</td>\n",
       "      <td>10244.94</td>\n",
       "      <td>6037</td>\n",
       "    </tr>\n",
       "    <tr>\n",
       "      <th>2</th>\n",
       "      <td>3</td>\n",
       "      <td>2.0</td>\n",
       "      <td>2077</td>\n",
       "      <td>646760</td>\n",
       "      <td>1926</td>\n",
       "      <td>7924.68</td>\n",
       "      <td>6037</td>\n",
       "    </tr>\n",
       "    <tr>\n",
       "      <th>3</th>\n",
       "      <td>0</td>\n",
       "      <td>0.0</td>\n",
       "      <td>1200</td>\n",
       "      <td>5328</td>\n",
       "      <td>1972</td>\n",
       "      <td>91.60</td>\n",
       "      <td>6037</td>\n",
       "    </tr>\n",
       "    <tr>\n",
       "      <th>4</th>\n",
       "      <td>0</td>\n",
       "      <td>0.0</td>\n",
       "      <td>171</td>\n",
       "      <td>6920</td>\n",
       "      <td>1973</td>\n",
       "      <td>255.17</td>\n",
       "      <td>6037</td>\n",
       "    </tr>\n",
       "  </tbody>\n",
       "</table>\n",
       "</div>"
      ],
      "text/plain": [
       "   bedrooms  bathrooms  sq_ft  tax_value  year_built  tax_amnt  fips\n",
       "0         4        2.0   3633     296425        2005   6941.39  6037\n",
       "1         3        4.0   1620     847770        2011  10244.94  6037\n",
       "2         3        2.0   2077     646760        1926   7924.68  6037\n",
       "3         0        0.0   1200       5328        1972     91.60  6037\n",
       "4         0        0.0    171       6920        1973    255.17  6037"
      ]
     },
     "execution_count": 2,
     "metadata": {},
     "output_type": "execute_result"
    }
   ],
   "source": [
    "df = wrangle_zillow()\n",
    "df.head()"
   ]
  },
  {
   "cell_type": "code",
   "execution_count": 3,
   "id": "fbd10406",
   "metadata": {},
   "outputs": [
    {
     "name": "stdout",
     "output_type": "stream",
     "text": [
      "(1172966, 7) (502700, 7) (418917, 7)\n"
     ]
    }
   ],
   "source": [
    "train_validate, test = train_test_split(df, test_size=.2, random_state=99)\n",
    "train, validate = train_test_split(train_validate, test_size=.3, random_state=99)\n",
    "print(train.shape, validate.shape, test.shape)"
   ]
  },
  {
   "cell_type": "code",
   "execution_count": null,
   "id": "2c0dfa39",
   "metadata": {},
   "outputs": [],
   "source": [
    "target = 'tax_value'\n",
    "features = [col for col in df.columns if col != target]\n",
    "quant_features = [feature for feature in features if df[feature].dtype != object]"
   ]
  },
  {
   "cell_type": "code",
   "execution_count": null,
   "id": "50009a89",
   "metadata": {},
   "outputs": [],
   "source": []
  },
  {
   "cell_type": "code",
   "execution_count": null,
   "id": "d129c585",
   "metadata": {},
   "outputs": [],
   "source": []
  },
  {
   "cell_type": "code",
   "execution_count": null,
   "id": "66230f4a",
   "metadata": {},
   "outputs": [],
   "source": []
  },
  {
   "cell_type": "code",
   "execution_count": 5,
   "id": "65c2edb7",
   "metadata": {},
   "outputs": [],
   "source": [
    "def plot_variable_pairs(df):\n",
    "    quant_features = [col for col in df.columns if df[col].dtype != object]\n",
    "    feature_combos = list(itertools.combinations(quant_features, 2))\n",
    "    for combo in feature_combos:\n",
    "        sns.lmplot(x=combo[0], y=combo[1], data=df, line_kws={'color': 'orange'})\n",
    "        plt.show()"
   ]
  },
  {
   "cell_type": "code",
   "execution_count": 4,
   "id": "9bf5a1ba",
   "metadata": {
    "scrolled": true
   },
   "outputs": [
    {
     "data": {
      "text/html": [
       "<div>\n",
       "<style scoped>\n",
       "    .dataframe tbody tr th:only-of-type {\n",
       "        vertical-align: middle;\n",
       "    }\n",
       "\n",
       "    .dataframe tbody tr th {\n",
       "        vertical-align: top;\n",
       "    }\n",
       "\n",
       "    .dataframe thead th {\n",
       "        text-align: right;\n",
       "    }\n",
       "</style>\n",
       "<table border=\"1\" class=\"dataframe\">\n",
       "  <thead>\n",
       "    <tr style=\"text-align: right;\">\n",
       "      <th></th>\n",
       "      <th>bedrooms</th>\n",
       "      <th>bathrooms</th>\n",
       "      <th>sq_ft</th>\n",
       "      <th>tax_value</th>\n",
       "      <th>year_built</th>\n",
       "      <th>tax_amnt</th>\n",
       "      <th>fips</th>\n",
       "    </tr>\n",
       "  </thead>\n",
       "  <tbody>\n",
       "    <tr>\n",
       "      <th>1137792</th>\n",
       "      <td>4</td>\n",
       "      <td>2.0</td>\n",
       "      <td>1219</td>\n",
       "      <td>441000</td>\n",
       "      <td>1958</td>\n",
       "      <td>5172.86</td>\n",
       "      <td>6037</td>\n",
       "    </tr>\n",
       "    <tr>\n",
       "      <th>723610</th>\n",
       "      <td>3</td>\n",
       "      <td>2.0</td>\n",
       "      <td>1689</td>\n",
       "      <td>707000</td>\n",
       "      <td>1979</td>\n",
       "      <td>8881.86</td>\n",
       "      <td>6111</td>\n",
       "    </tr>\n",
       "    <tr>\n",
       "      <th>883360</th>\n",
       "      <td>3</td>\n",
       "      <td>1.0</td>\n",
       "      <td>1282</td>\n",
       "      <td>77426</td>\n",
       "      <td>1910</td>\n",
       "      <td>1017.81</td>\n",
       "      <td>6037</td>\n",
       "    </tr>\n",
       "    <tr>\n",
       "      <th>500409</th>\n",
       "      <td>4</td>\n",
       "      <td>2.0</td>\n",
       "      <td>1224</td>\n",
       "      <td>276413</td>\n",
       "      <td>1957</td>\n",
       "      <td>3565.62</td>\n",
       "      <td>6059</td>\n",
       "    </tr>\n",
       "    <tr>\n",
       "      <th>182804</th>\n",
       "      <td>3</td>\n",
       "      <td>1.0</td>\n",
       "      <td>1016</td>\n",
       "      <td>255814</td>\n",
       "      <td>1950</td>\n",
       "      <td>3392.59</td>\n",
       "      <td>6037</td>\n",
       "    </tr>\n",
       "  </tbody>\n",
       "</table>\n",
       "</div>"
      ],
      "text/plain": [
       "         bedrooms  bathrooms  sq_ft  tax_value  year_built  tax_amnt  fips\n",
       "1137792         4        2.0   1219     441000        1958   5172.86  6037\n",
       "723610          3        2.0   1689     707000        1979   8881.86  6111\n",
       "883360          3        1.0   1282      77426        1910   1017.81  6037\n",
       "500409          4        2.0   1224     276413        1957   3565.62  6059\n",
       "182804          3        1.0   1016     255814        1950   3392.59  6037"
      ]
     },
     "execution_count": 4,
     "metadata": {},
     "output_type": "execute_result"
    }
   ],
   "source": [
    "sample_train = train.sample(10000)\n",
    "sample_train.head()"
   ]
  },
  {
   "cell_type": "code",
   "execution_count": null,
   "id": "bb0354ea",
   "metadata": {},
   "outputs": [],
   "source": [
    "sample_train.dtale()"
   ]
  },
  {
   "cell_type": "code",
   "execution_count": 6,
   "id": "84c968d7",
   "metadata": {},
   "outputs": [],
   "source": [
    "plot_variable_pairs(sample_train)"
   ]
  },
  {
   "cell_type": "code",
   "execution_count": null,
   "id": "767e32f1",
   "metadata": {
    "scrolled": false
   },
   "outputs": [],
   "source": [
    "#feature changes over time\n",
    "for features in quant_features:\n",
    "    if features != 'year_built':\n",
    "        sns.lmplot(x ='year_built', y = features, data = sample_train, line_kws={'color': 'orange'})\n",
    "        plt.show()"
   ]
  },
  {
   "cell_type": "code",
   "execution_count": null,
   "id": "1137daec",
   "metadata": {},
   "outputs": [],
   "source": [
    "\n",
    "    \n",
    "categ_vars = [col for col in train.columns if (train[col].dtype == 'object') or (len(train[col].unique()) < 10)]\n",
    "cont_vars = [col for col in train.columns if (col not in categ_vars)]\n"
   ]
  },
  {
   "cell_type": "code",
   "execution_count": 7,
   "id": "b63c0ab0",
   "metadata": {},
   "outputs": [],
   "source": [
    "def plot_categorical_and_continuous_vars(df):    \n",
    "    categ_vars = [col for col in df.columns if (df[col].dtype == 'object') or (len(df[col].unique()) < 10)]\n",
    "    cont_vars = [col for col in df.columns if (col not in categ_vars)]\n",
    "    \n",
    "    \n",
    "    for cont_var in cont_vars:\n",
    "        for categ_var in categ_vars:\n",
    "\n",
    "            plt.figure(figsize=(30,10))\n",
    "            \n",
    "            # barplot of average values\n",
    "            plt.subplot(131)\n",
    "            sns.barplot(data=df,\n",
    "                        x=categ_var,\n",
    "                        y=cont_var)\n",
    "            plt.axhline(df[cont_var].mean(), \n",
    "                        ls='--', \n",
    "                        color='black')\n",
    "            plt.title(f'{cont_var} by {categ_var}', fontsize=14)\n",
    "            \n",
    "            # box plot of distributions\n",
    "            plt.subplot(132)\n",
    "            sns.boxplot(data=df,\n",
    "                          x=categ_var,\n",
    "                          y=cont_var)\n",
    "            \n",
    "            # swarmplot of distributions\n",
    "            \n",
    "            # for larger datasets, use a sample of n=1000\n",
    "            if len(df) > 1000:\n",
    "                train_sample = df.sample(1000)\n",
    "\n",
    "                plt.subplot(133)\n",
    "                sns.swarmplot(x=categ_var,\n",
    "                              y=cont_var,\n",
    "                              data=train_sample)\n",
    "            \n",
    "            # for smaller datasets, plot all data\n",
    "            else:\n",
    "                plt.subplot(133)\n",
    "                sns.swarmplot(x=categ_var,\n",
    "                              y=cont_var,\n",
    "                              data=df)\n",
    "            plt.show()"
   ]
  },
  {
   "cell_type": "code",
   "execution_count": 8,
   "id": "25cb7d6e",
   "metadata": {
    "scrolled": false
   },
   "outputs": [],
   "source": [
    "plot_categorical_and_continuous_vars(sample_train)"
   ]
  },
  {
   "cell_type": "code",
   "execution_count": null,
   "id": "1982b7a2",
   "metadata": {},
   "outputs": [],
   "source": []
  },
  {
   "cell_type": "code",
   "execution_count": null,
   "id": "90eda674",
   "metadata": {},
   "outputs": [],
   "source": []
  },
  {
   "cell_type": "code",
   "execution_count": null,
   "id": "ecc2fef7",
   "metadata": {},
   "outputs": [],
   "source": []
  },
  {
   "cell_type": "code",
   "execution_count": null,
   "id": "afd29e0b",
   "metadata": {},
   "outputs": [],
   "source": []
  }
 ],
 "metadata": {
  "kernelspec": {
   "display_name": "Python 3 (ipykernel)",
   "language": "python",
   "name": "python3"
  },
  "language_info": {
   "codemirror_mode": {
    "name": "ipython",
    "version": 3
   },
   "file_extension": ".py",
   "mimetype": "text/x-python",
   "name": "python",
   "nbconvert_exporter": "python",
   "pygments_lexer": "ipython3",
   "version": "3.9.12"
  }
 },
 "nbformat": 4,
 "nbformat_minor": 5
}
