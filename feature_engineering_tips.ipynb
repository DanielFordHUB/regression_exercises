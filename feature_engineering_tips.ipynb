{
 "cells": [
  {
   "cell_type": "code",
   "execution_count": 22,
   "id": "33b6ff69",
   "metadata": {},
   "outputs": [],
   "source": [
    "%matplotlib inline\n",
    "import matplotlib.pyplot as plt\n",
    "import numpy as np\n",
    "import pandas as pd\n",
    "import pydataset\n",
    "import seaborn as sns\n",
    "import itertools\n",
    "import wrangle\n",
    "\n",
    "from pydataset import data\n",
    "from sklearn.feature_selection import SelectKBest, RFE, f_regression, SequentialFeatureSelector\n",
    "from sklearn.model_selection import train_test_split\n",
    "from sklearn.preprocessing import MinMaxScaler\n",
    "from sklearn.linear_model import LinearRegression\n",
    "\n",
    "import warnings\n",
    "warnings.filterwarnings(\"ignore\")"
   ]
  },
  {
   "cell_type": "markdown",
   "id": "798bf12b",
   "metadata": {},
   "source": [
    "# 1. \n",
    "\n",
    "Load the tips dataset."
   ]
  },
  {
   "cell_type": "code",
   "execution_count": 2,
   "id": "3b216389",
   "metadata": {},
   "outputs": [
    {
     "data": {
      "text/html": [
       "<div>\n",
       "<style scoped>\n",
       "    .dataframe tbody tr th:only-of-type {\n",
       "        vertical-align: middle;\n",
       "    }\n",
       "\n",
       "    .dataframe tbody tr th {\n",
       "        vertical-align: top;\n",
       "    }\n",
       "\n",
       "    .dataframe thead th {\n",
       "        text-align: right;\n",
       "    }\n",
       "</style>\n",
       "<table border=\"1\" class=\"dataframe\">\n",
       "  <thead>\n",
       "    <tr style=\"text-align: right;\">\n",
       "      <th></th>\n",
       "      <th>total_bill</th>\n",
       "      <th>tip</th>\n",
       "      <th>sex</th>\n",
       "      <th>smoker</th>\n",
       "      <th>day</th>\n",
       "      <th>time</th>\n",
       "      <th>size</th>\n",
       "    </tr>\n",
       "  </thead>\n",
       "  <tbody>\n",
       "    <tr>\n",
       "      <th>1</th>\n",
       "      <td>16.99</td>\n",
       "      <td>1.01</td>\n",
       "      <td>Female</td>\n",
       "      <td>No</td>\n",
       "      <td>Sun</td>\n",
       "      <td>Dinner</td>\n",
       "      <td>2</td>\n",
       "    </tr>\n",
       "    <tr>\n",
       "      <th>2</th>\n",
       "      <td>10.34</td>\n",
       "      <td>1.66</td>\n",
       "      <td>Male</td>\n",
       "      <td>No</td>\n",
       "      <td>Sun</td>\n",
       "      <td>Dinner</td>\n",
       "      <td>3</td>\n",
       "    </tr>\n",
       "    <tr>\n",
       "      <th>3</th>\n",
       "      <td>21.01</td>\n",
       "      <td>3.50</td>\n",
       "      <td>Male</td>\n",
       "      <td>No</td>\n",
       "      <td>Sun</td>\n",
       "      <td>Dinner</td>\n",
       "      <td>3</td>\n",
       "    </tr>\n",
       "    <tr>\n",
       "      <th>4</th>\n",
       "      <td>23.68</td>\n",
       "      <td>3.31</td>\n",
       "      <td>Male</td>\n",
       "      <td>No</td>\n",
       "      <td>Sun</td>\n",
       "      <td>Dinner</td>\n",
       "      <td>2</td>\n",
       "    </tr>\n",
       "    <tr>\n",
       "      <th>5</th>\n",
       "      <td>24.59</td>\n",
       "      <td>3.61</td>\n",
       "      <td>Female</td>\n",
       "      <td>No</td>\n",
       "      <td>Sun</td>\n",
       "      <td>Dinner</td>\n",
       "      <td>4</td>\n",
       "    </tr>\n",
       "  </tbody>\n",
       "</table>\n",
       "</div>"
      ],
      "text/plain": [
       "   total_bill   tip     sex smoker  day    time  size\n",
       "1       16.99  1.01  Female     No  Sun  Dinner     2\n",
       "2       10.34  1.66    Male     No  Sun  Dinner     3\n",
       "3       21.01  3.50    Male     No  Sun  Dinner     3\n",
       "4       23.68  3.31    Male     No  Sun  Dinner     2\n",
       "5       24.59  3.61  Female     No  Sun  Dinner     4"
      ]
     },
     "execution_count": 2,
     "metadata": {},
     "output_type": "execute_result"
    }
   ],
   "source": [
    "df = data('tips')\n",
    "df.head()"
   ]
  },
  {
   "cell_type": "code",
   "execution_count": 3,
   "id": "8a46a38a",
   "metadata": {},
   "outputs": [],
   "source": [
    "df = df.rename(columns={'size': 'party_size'})"
   ]
  },
  {
   "cell_type": "markdown",
   "id": "7668536c",
   "metadata": {},
   "source": [
    "## A.\n",
    "\n",
    "Create a column named price_per_person. This should be the total bill divided by the party size."
   ]
  },
  {
   "cell_type": "code",
   "execution_count": 4,
   "id": "d43728d3",
   "metadata": {},
   "outputs": [],
   "source": [
    "df['price_per_person'] = df.total_bill / df.party_size"
   ]
  },
  {
   "cell_type": "code",
   "execution_count": 5,
   "id": "e028464b",
   "metadata": {},
   "outputs": [
    {
     "data": {
      "text/html": [
       "<div>\n",
       "<style scoped>\n",
       "    .dataframe tbody tr th:only-of-type {\n",
       "        vertical-align: middle;\n",
       "    }\n",
       "\n",
       "    .dataframe tbody tr th {\n",
       "        vertical-align: top;\n",
       "    }\n",
       "\n",
       "    .dataframe thead th {\n",
       "        text-align: right;\n",
       "    }\n",
       "</style>\n",
       "<table border=\"1\" class=\"dataframe\">\n",
       "  <thead>\n",
       "    <tr style=\"text-align: right;\">\n",
       "      <th></th>\n",
       "      <th>total_bill</th>\n",
       "      <th>tip</th>\n",
       "      <th>sex</th>\n",
       "      <th>smoker</th>\n",
       "      <th>day</th>\n",
       "      <th>time</th>\n",
       "      <th>party_size</th>\n",
       "      <th>price_per_person</th>\n",
       "    </tr>\n",
       "  </thead>\n",
       "  <tbody>\n",
       "    <tr>\n",
       "      <th>1</th>\n",
       "      <td>16.99</td>\n",
       "      <td>1.01</td>\n",
       "      <td>Female</td>\n",
       "      <td>No</td>\n",
       "      <td>Sun</td>\n",
       "      <td>Dinner</td>\n",
       "      <td>2</td>\n",
       "      <td>8.495000</td>\n",
       "    </tr>\n",
       "    <tr>\n",
       "      <th>2</th>\n",
       "      <td>10.34</td>\n",
       "      <td>1.66</td>\n",
       "      <td>Male</td>\n",
       "      <td>No</td>\n",
       "      <td>Sun</td>\n",
       "      <td>Dinner</td>\n",
       "      <td>3</td>\n",
       "      <td>3.446667</td>\n",
       "    </tr>\n",
       "    <tr>\n",
       "      <th>3</th>\n",
       "      <td>21.01</td>\n",
       "      <td>3.50</td>\n",
       "      <td>Male</td>\n",
       "      <td>No</td>\n",
       "      <td>Sun</td>\n",
       "      <td>Dinner</td>\n",
       "      <td>3</td>\n",
       "      <td>7.003333</td>\n",
       "    </tr>\n",
       "    <tr>\n",
       "      <th>4</th>\n",
       "      <td>23.68</td>\n",
       "      <td>3.31</td>\n",
       "      <td>Male</td>\n",
       "      <td>No</td>\n",
       "      <td>Sun</td>\n",
       "      <td>Dinner</td>\n",
       "      <td>2</td>\n",
       "      <td>11.840000</td>\n",
       "    </tr>\n",
       "    <tr>\n",
       "      <th>5</th>\n",
       "      <td>24.59</td>\n",
       "      <td>3.61</td>\n",
       "      <td>Female</td>\n",
       "      <td>No</td>\n",
       "      <td>Sun</td>\n",
       "      <td>Dinner</td>\n",
       "      <td>4</td>\n",
       "      <td>6.147500</td>\n",
       "    </tr>\n",
       "  </tbody>\n",
       "</table>\n",
       "</div>"
      ],
      "text/plain": [
       "   total_bill   tip     sex smoker  day    time  party_size  price_per_person\n",
       "1       16.99  1.01  Female     No  Sun  Dinner           2          8.495000\n",
       "2       10.34  1.66    Male     No  Sun  Dinner           3          3.446667\n",
       "3       21.01  3.50    Male     No  Sun  Dinner           3          7.003333\n",
       "4       23.68  3.31    Male     No  Sun  Dinner           2         11.840000\n",
       "5       24.59  3.61  Female     No  Sun  Dinner           4          6.147500"
      ]
     },
     "execution_count": 5,
     "metadata": {},
     "output_type": "execute_result"
    }
   ],
   "source": [
    "df.head()"
   ]
  },
  {
   "cell_type": "markdown",
   "id": "5174a63a",
   "metadata": {},
   "source": [
    "# B.\n",
    "\n",
    "Before using any of the methods discussed in the lesson, which features do you think would be most important for predicting the tip amount?\n",
    "\n",
    "\n",
    "Party_size, total_bill, price_per_person, time"
   ]
  },
  {
   "cell_type": "code",
   "execution_count": 6,
   "id": "e6b0f2ba",
   "metadata": {},
   "outputs": [],
   "source": [
    "#find target\n",
    "target = 'tip'\n",
    "\n",
    "#quantitative features\n",
    "quant_features = [col for col in df.columns if (df[col].dtype != 'object') & (col != target)]\n",
    "\n",
    "# identify categorical features\n",
    "categ_features = [col for col in df.columns if (df[col].dtype == 'object') & (col != target)]"
   ]
  },
  {
   "cell_type": "code",
   "execution_count": 7,
   "id": "0bbcbee7",
   "metadata": {},
   "outputs": [],
   "source": [
    "#encode Categorical\n",
    "for feature in categ_features:\n",
    "    dummy_df = pd.get_dummies(df[feature],\n",
    "                             prefix=f'enc_{df[feature].name}',\n",
    "                             drop_first=True)\n",
    "    df = pd.concat([df, dummy_df], axis=1)\n",
    "    \n",
    "enc_features = [col for col in df.columns if col.startswith('enc_')]"
   ]
  },
  {
   "cell_type": "code",
   "execution_count": 10,
   "id": "ce69f291",
   "metadata": {},
   "outputs": [
    {
     "data": {
      "text/plain": [
       "['total_bill', 'party_size', 'price_per_person']"
      ]
     },
     "execution_count": 10,
     "metadata": {},
     "output_type": "execute_result"
    }
   ],
   "source": [
    "quant_features"
   ]
  },
  {
   "cell_type": "code",
   "execution_count": 9,
   "id": "75bade9a",
   "metadata": {},
   "outputs": [
    {
     "name": "stdout",
     "output_type": "stream",
     "text": [
      "train\t n = 136\n",
      "test\t n = 49\n",
      "validate n = 59\n"
     ]
    }
   ],
   "source": [
    "train, test, validate =wrangle.train_test_validate_split(df)"
   ]
  },
  {
   "cell_type": "code",
   "execution_count": 15,
   "id": "0281acc3",
   "metadata": {},
   "outputs": [],
   "source": [
    "#scale quant\n",
    "\n",
    "#DB for scaled features\n",
    "train_scaled = pd.DataFrame(index=train.index)\n",
    "validate_scaled = pd.DataFrame(index = validate.index)\n",
    "test_scaled = pd.DataFrame(index = test.index)\n",
    "\n",
    "#make and fit scaler\n",
    "scaler = MinMaxScaler().fit(train[quant_features])\n",
    "\n",
    "#addd scaled featuress to DF\n",
    "train_scaled[quant_features] = scaler.transform(train[quant_features])\n",
    "validate_scaled[quant_features] = scaler.transform(validate[quant_features])\n",
    "test_scaled[quant_features] = scaler.transform(test[quant_features])\n",
    "\n",
    "# add 'scaled' prefix to columns\n",
    "for feature in quant_features:\n",
    "    train_scaled = train_scaled.rename(columns={feature: f'scaled_{feature}'})\n",
    "    validate_scaled = validate_scaled.rename(columns={feature: f'scaled_{feature}'})\n",
    "    test_scaled = test_scaled.rename(columns={feature: f'scaled_{feature}'})\n",
    "    \n",
    "# concat scaled features to original train, validate, test df's\n",
    "train = pd.concat([train, train_scaled], axis=1)\n",
    "validate = pd.concat([validate, validate_scaled], axis=1)\n",
    "test = pd.concat([test, test_scaled], axis=1)\n",
    "\n",
    "#identify scaled features\n",
    "scaled_features = [col for col in train.columns if col.startswith('scaled_')]"
   ]
  },
  {
   "cell_type": "code",
   "execution_count": 17,
   "id": "927f8694",
   "metadata": {},
   "outputs": [
    {
     "data": {
      "text/html": [
       "<div>\n",
       "<style scoped>\n",
       "    .dataframe tbody tr th:only-of-type {\n",
       "        vertical-align: middle;\n",
       "    }\n",
       "\n",
       "    .dataframe tbody tr th {\n",
       "        vertical-align: top;\n",
       "    }\n",
       "\n",
       "    .dataframe thead th {\n",
       "        text-align: right;\n",
       "    }\n",
       "</style>\n",
       "<table border=\"1\" class=\"dataframe\">\n",
       "  <thead>\n",
       "    <tr style=\"text-align: right;\">\n",
       "      <th></th>\n",
       "      <th>total_bill</th>\n",
       "      <th>tip</th>\n",
       "      <th>sex</th>\n",
       "      <th>smoker</th>\n",
       "      <th>day</th>\n",
       "      <th>time</th>\n",
       "      <th>party_size</th>\n",
       "      <th>price_per_person</th>\n",
       "      <th>enc_sex_Male</th>\n",
       "      <th>enc_smoker_Yes</th>\n",
       "      <th>enc_day_Sat</th>\n",
       "      <th>enc_day_Sun</th>\n",
       "      <th>enc_day_Thur</th>\n",
       "      <th>enc_time_Lunch</th>\n",
       "      <th>scaled_total_bill</th>\n",
       "      <th>scaled_party_size</th>\n",
       "      <th>scaled_price_per_person</th>\n",
       "    </tr>\n",
       "  </thead>\n",
       "  <tbody>\n",
       "    <tr>\n",
       "      <th>126</th>\n",
       "      <td>29.80</td>\n",
       "      <td>4.20</td>\n",
       "      <td>Female</td>\n",
       "      <td>No</td>\n",
       "      <td>Thur</td>\n",
       "      <td>Lunch</td>\n",
       "      <td>6</td>\n",
       "      <td>4.966667</td>\n",
       "      <td>0</td>\n",
       "      <td>0</td>\n",
       "      <td>0</td>\n",
       "      <td>0</td>\n",
       "      <td>1</td>\n",
       "      <td>1</td>\n",
       "      <td>0.591372</td>\n",
       "      <td>1.0</td>\n",
       "      <td>0.142929</td>\n",
       "    </tr>\n",
       "    <tr>\n",
       "      <th>46</th>\n",
       "      <td>18.29</td>\n",
       "      <td>3.00</td>\n",
       "      <td>Male</td>\n",
       "      <td>No</td>\n",
       "      <td>Sun</td>\n",
       "      <td>Dinner</td>\n",
       "      <td>2</td>\n",
       "      <td>9.145000</td>\n",
       "      <td>1</td>\n",
       "      <td>0</td>\n",
       "      <td>0</td>\n",
       "      <td>1</td>\n",
       "      <td>0</td>\n",
       "      <td>0</td>\n",
       "      <td>0.336726</td>\n",
       "      <td>0.2</td>\n",
       "      <td>0.457800</td>\n",
       "    </tr>\n",
       "    <tr>\n",
       "      <th>21</th>\n",
       "      <td>17.92</td>\n",
       "      <td>4.08</td>\n",
       "      <td>Male</td>\n",
       "      <td>No</td>\n",
       "      <td>Sat</td>\n",
       "      <td>Dinner</td>\n",
       "      <td>2</td>\n",
       "      <td>8.960000</td>\n",
       "      <td>1</td>\n",
       "      <td>0</td>\n",
       "      <td>1</td>\n",
       "      <td>0</td>\n",
       "      <td>0</td>\n",
       "      <td>0</td>\n",
       "      <td>0.328540</td>\n",
       "      <td>0.2</td>\n",
       "      <td>0.443858</td>\n",
       "    </tr>\n",
       "    <tr>\n",
       "      <th>179</th>\n",
       "      <td>9.60</td>\n",
       "      <td>4.00</td>\n",
       "      <td>Female</td>\n",
       "      <td>Yes</td>\n",
       "      <td>Sun</td>\n",
       "      <td>Dinner</td>\n",
       "      <td>2</td>\n",
       "      <td>4.800000</td>\n",
       "      <td>0</td>\n",
       "      <td>1</td>\n",
       "      <td>0</td>\n",
       "      <td>1</td>\n",
       "      <td>0</td>\n",
       "      <td>0</td>\n",
       "      <td>0.144469</td>\n",
       "      <td>0.2</td>\n",
       "      <td>0.130369</td>\n",
       "    </tr>\n",
       "    <tr>\n",
       "      <th>84</th>\n",
       "      <td>32.68</td>\n",
       "      <td>5.00</td>\n",
       "      <td>Male</td>\n",
       "      <td>Yes</td>\n",
       "      <td>Thur</td>\n",
       "      <td>Lunch</td>\n",
       "      <td>2</td>\n",
       "      <td>16.340000</td>\n",
       "      <td>1</td>\n",
       "      <td>1</td>\n",
       "      <td>0</td>\n",
       "      <td>0</td>\n",
       "      <td>1</td>\n",
       "      <td>1</td>\n",
       "      <td>0.655088</td>\n",
       "      <td>0.2</td>\n",
       "      <td>1.000000</td>\n",
       "    </tr>\n",
       "  </tbody>\n",
       "</table>\n",
       "</div>"
      ],
      "text/plain": [
       "     total_bill   tip     sex smoker   day    time  party_size  \\\n",
       "126       29.80  4.20  Female     No  Thur   Lunch           6   \n",
       "46        18.29  3.00    Male     No   Sun  Dinner           2   \n",
       "21        17.92  4.08    Male     No   Sat  Dinner           2   \n",
       "179        9.60  4.00  Female    Yes   Sun  Dinner           2   \n",
       "84        32.68  5.00    Male    Yes  Thur   Lunch           2   \n",
       "\n",
       "     price_per_person  enc_sex_Male  enc_smoker_Yes  enc_day_Sat  enc_day_Sun  \\\n",
       "126          4.966667             0               0            0            0   \n",
       "46           9.145000             1               0            0            1   \n",
       "21           8.960000             1               0            1            0   \n",
       "179          4.800000             0               1            0            1   \n",
       "84          16.340000             1               1            0            0   \n",
       "\n",
       "     enc_day_Thur  enc_time_Lunch  scaled_total_bill  scaled_party_size  \\\n",
       "126             1               1           0.591372                1.0   \n",
       "46              0               0           0.336726                0.2   \n",
       "21              0               0           0.328540                0.2   \n",
       "179             0               0           0.144469                0.2   \n",
       "84              1               1           0.655088                0.2   \n",
       "\n",
       "     scaled_price_per_person  \n",
       "126                 0.142929  \n",
       "46                  0.457800  \n",
       "21                  0.443858  \n",
       "179                 0.130369  \n",
       "84                  1.000000  "
      ]
     },
     "execution_count": 17,
     "metadata": {},
     "output_type": "execute_result"
    }
   ],
   "source": [
    "train.head()"
   ]
  },
  {
   "cell_type": "code",
   "execution_count": 19,
   "id": "a28e638b",
   "metadata": {},
   "outputs": [
    {
     "data": {
      "text/plain": [
       "['scaled_total_bill', 'scaled_party_size', 'scaled_price_per_person']"
      ]
     },
     "execution_count": 19,
     "metadata": {},
     "output_type": "execute_result"
    }
   ],
   "source": [
    "scaled_features"
   ]
  },
  {
   "cell_type": "code",
   "execution_count": 20,
   "id": "661767e5",
   "metadata": {},
   "outputs": [],
   "source": [
    "# divide samples into x and y using only model-appropriate (encoded and scaled) features for x\n",
    "\n",
    "x_train = train[scaled_features + enc_features]\n",
    "y_train = train[target]\n",
    "\n",
    "x_validate = validate[scaled_features + enc_features]\n",
    "y_validate = validate[target]\n",
    "\n",
    "x_test = test[scaled_features + enc_features]\n",
    "y_test = test[target]"
   ]
  },
  {
   "cell_type": "markdown",
   "id": "16195c69",
   "metadata": {},
   "source": [
    "# C. \n",
    "\n",
    "Use select k best to select the top 2 features for predicting tip amount. What are they?"
   ]
  },
  {
   "cell_type": "code",
   "execution_count": 28,
   "id": "3c4fb225",
   "metadata": {},
   "outputs": [
    {
     "data": {
      "text/plain": [
       "['scaled_total_bill', 'scaled_party_size', 'scaled_price_per_person']"
      ]
     },
     "execution_count": 28,
     "metadata": {},
     "output_type": "execute_result"
    }
   ],
   "source": [
    "#KBEST\n",
    "kmodel = SelectKBest(f_regression, k = 3)\n",
    "kmodel.fit(x_train,y_train)\n",
    "feature_mask = kmodel.get_support()\n",
    "k_best = x_train.iloc[:,feature_mask].columns.tolist()\n",
    "\n",
    "\n",
    "k_best"
   ]
  },
  {
   "cell_type": "code",
   "execution_count": null,
   "id": "19b1d87c",
   "metadata": {},
   "outputs": [],
   "source": []
  },
  {
   "cell_type": "markdown",
   "id": "d4ac638f",
   "metadata": {},
   "source": [
    "# D.\n",
    "\n",
    "Use recursive feature elimination to select the top 2 features for tip amount. What are they?"
   ]
  },
  {
   "cell_type": "code",
   "execution_count": 31,
   "id": "67530d23",
   "metadata": {},
   "outputs": [
    {
     "data": {
      "text/plain": [
       "['scaled_total_bill', 'scaled_price_per_person', 'enc_day_Sat']"
      ]
     },
     "execution_count": 31,
     "metadata": {},
     "output_type": "execute_result"
    }
   ],
   "source": [
    "# RFE\n",
    "rfe = RFE(LinearRegression(), n_features_to_select=3)\n",
    "x_rfe = rfe.fit_transform(x_train, y_train)\n",
    "feature_mask = rfe.support_\n",
    "rfe_features = x_train.loc[:,feature_mask].columns.to_list()\n",
    "\n",
    "rfe_features"
   ]
  },
  {
   "cell_type": "code",
   "execution_count": null,
   "id": "4133a4c3",
   "metadata": {},
   "outputs": [],
   "source": []
  },
  {
   "cell_type": "markdown",
   "id": "835c3899",
   "metadata": {},
   "source": [
    "# E. \n",
    "\n",
    "Why do you think select k best and recursive feature elimination might give different answers for the top features? Does this change as you change the number of features your are selecting?"
   ]
  },
  {
   "cell_type": "code",
   "execution_count": null,
   "id": "0c644a38",
   "metadata": {},
   "outputs": [],
   "source": []
  },
  {
   "cell_type": "code",
   "execution_count": null,
   "id": "7ea18912",
   "metadata": {},
   "outputs": [],
   "source": []
  },
  {
   "cell_type": "markdown",
   "id": "3ec026a3",
   "metadata": {},
   "source": [
    "# 2.\n",
    "\n",
    "Write a function named select_kbest that takes in the predictors (X), the target (y), and the number of features to select (k) and returns the names of the top k selected features based on the SelectKBest class. Test your function with the tips dataset. You should see the same results as when you did the process manually."
   ]
  },
  {
   "cell_type": "code",
   "execution_count": 32,
   "id": "2493b39d",
   "metadata": {},
   "outputs": [],
   "source": [
    "from sklearn.feature_selection import SelectKBest, f_regression\n",
    "\n",
    "def kbest(x, y, k):\n",
    "    selector = SelectKBest(f_regression, k=k)\n",
    "    selector.fit(x, y)\n",
    "    feature_mask = selector.get_support()\n",
    "    k_best_features = x_train.iloc[:,feature_mask].columns.tolist()\n",
    "    return k_best_features"
   ]
  },
  {
   "cell_type": "code",
   "execution_count": 33,
   "id": "ab474e96",
   "metadata": {},
   "outputs": [
    {
     "data": {
      "text/plain": [
       "['scaled_total_bill', 'scaled_party_size', 'scaled_price_per_person']"
      ]
     },
     "execution_count": 33,
     "metadata": {},
     "output_type": "execute_result"
    }
   ],
   "source": [
    "kbest(x_train,y_train, 3)"
   ]
  },
  {
   "cell_type": "markdown",
   "id": "f5508fad",
   "metadata": {},
   "source": [
    "# 3.\n",
    "\n",
    "Write a function named rfe that takes in the predictors, the target, and the number of features to select. It should return the top k features based on the RFE class. Test your function with the tips dataset. You should see the same results as when you did the process manually."
   ]
  },
  {
   "cell_type": "code",
   "execution_count": 34,
   "id": "e40356b0",
   "metadata": {},
   "outputs": [],
   "source": [
    "from sklearn.feature_selection import RFE\n",
    "\n",
    "def rfe(x, y, k):\n",
    "    rfe = RFE(LinearRegression(), n_features_to_select=k)\n",
    "    x_rfe = rfe.fit_transform(x_train, y_train)\n",
    "    feature_mask = rfe.support_\n",
    "    rfe_features = x_train.loc[:,feature_mask].columns.to_list()\n",
    "    return rfe_features"
   ]
  },
  {
   "cell_type": "code",
   "execution_count": 35,
   "id": "8bb44111",
   "metadata": {},
   "outputs": [
    {
     "data": {
      "text/plain": [
       "['scaled_total_bill', 'scaled_price_per_person', 'enc_day_Sat']"
      ]
     },
     "execution_count": 35,
     "metadata": {},
     "output_type": "execute_result"
    }
   ],
   "source": [
    "rfe(x_train,y_train, 3)"
   ]
  },
  {
   "cell_type": "code",
   "execution_count": 47,
   "id": "cef78e09",
   "metadata": {},
   "outputs": [],
   "source": [
    "def kbest_rfe(x, y, k):\n",
    "    selector = SelectKBest(f_regression, k=k)\n",
    "    selector.fit(x, y)\n",
    "    feature_mask = selector.get_support()\n",
    "    k_best_features = x_train.iloc[:,feature_mask].columns.tolist()\n",
    "    \n",
    "    rfe = RFE(LinearRegression(), n_features_to_select=k)\n",
    "    x_rfe = rfe.fit_transform(x_train, y_train)\n",
    "    feature_mask = rfe.support_\n",
    "    rfe_features = x_train.loc[:,feature_mask].columns.to_list()\n",
    "    \n",
    "    return print(f'kbest is {k_best_features}\\n rfe is {rfe_features}')"
   ]
  },
  {
   "cell_type": "code",
   "execution_count": 48,
   "id": "f1965240",
   "metadata": {},
   "outputs": [
    {
     "name": "stdout",
     "output_type": "stream",
     "text": [
      "kbest is ['scaled_fertility', 'scaled_examination', 'scaled_education']\n",
      " rfe is ['scaled_fertility', 'scaled_agriculture', 'scaled_catholic']\n"
     ]
    }
   ],
   "source": [
    "kbest_rfe(x_train,y_train, 3)"
   ]
  },
  {
   "cell_type": "code",
   "execution_count": null,
   "id": "07d7f648",
   "metadata": {},
   "outputs": [],
   "source": []
  },
  {
   "cell_type": "markdown",
   "id": "e3421644",
   "metadata": {},
   "source": [
    "# 4.\n",
    "\n",
    "Load the swiss dataset and use all the other features to predict Fertility. Find the top 3 features using both select k best and recursive feature elimination (use the functions you just built to help you out)."
   ]
  },
  {
   "cell_type": "code",
   "execution_count": 36,
   "id": "2bb20f5e",
   "metadata": {},
   "outputs": [],
   "source": [
    "df = data('swiss')"
   ]
  },
  {
   "cell_type": "code",
   "execution_count": 37,
   "id": "96630f44",
   "metadata": {},
   "outputs": [
    {
     "data": {
      "text/html": [
       "<div>\n",
       "<style scoped>\n",
       "    .dataframe tbody tr th:only-of-type {\n",
       "        vertical-align: middle;\n",
       "    }\n",
       "\n",
       "    .dataframe tbody tr th {\n",
       "        vertical-align: top;\n",
       "    }\n",
       "\n",
       "    .dataframe thead th {\n",
       "        text-align: right;\n",
       "    }\n",
       "</style>\n",
       "<table border=\"1\" class=\"dataframe\">\n",
       "  <thead>\n",
       "    <tr style=\"text-align: right;\">\n",
       "      <th></th>\n",
       "      <th>Fertility</th>\n",
       "      <th>Agriculture</th>\n",
       "      <th>Examination</th>\n",
       "      <th>Education</th>\n",
       "      <th>Catholic</th>\n",
       "      <th>Infant.Mortality</th>\n",
       "    </tr>\n",
       "  </thead>\n",
       "  <tbody>\n",
       "    <tr>\n",
       "      <th>Courtelary</th>\n",
       "      <td>80.2</td>\n",
       "      <td>17.0</td>\n",
       "      <td>15</td>\n",
       "      <td>12</td>\n",
       "      <td>9.96</td>\n",
       "      <td>22.2</td>\n",
       "    </tr>\n",
       "    <tr>\n",
       "      <th>Delemont</th>\n",
       "      <td>83.1</td>\n",
       "      <td>45.1</td>\n",
       "      <td>6</td>\n",
       "      <td>9</td>\n",
       "      <td>84.84</td>\n",
       "      <td>22.2</td>\n",
       "    </tr>\n",
       "    <tr>\n",
       "      <th>Franches-Mnt</th>\n",
       "      <td>92.5</td>\n",
       "      <td>39.7</td>\n",
       "      <td>5</td>\n",
       "      <td>5</td>\n",
       "      <td>93.40</td>\n",
       "      <td>20.2</td>\n",
       "    </tr>\n",
       "    <tr>\n",
       "      <th>Moutier</th>\n",
       "      <td>85.8</td>\n",
       "      <td>36.5</td>\n",
       "      <td>12</td>\n",
       "      <td>7</td>\n",
       "      <td>33.77</td>\n",
       "      <td>20.3</td>\n",
       "    </tr>\n",
       "    <tr>\n",
       "      <th>Neuveville</th>\n",
       "      <td>76.9</td>\n",
       "      <td>43.5</td>\n",
       "      <td>17</td>\n",
       "      <td>15</td>\n",
       "      <td>5.16</td>\n",
       "      <td>20.6</td>\n",
       "    </tr>\n",
       "  </tbody>\n",
       "</table>\n",
       "</div>"
      ],
      "text/plain": [
       "              Fertility  Agriculture  Examination  Education  Catholic  \\\n",
       "Courtelary         80.2         17.0           15         12      9.96   \n",
       "Delemont           83.1         45.1            6          9     84.84   \n",
       "Franches-Mnt       92.5         39.7            5          5     93.40   \n",
       "Moutier            85.8         36.5           12          7     33.77   \n",
       "Neuveville         76.9         43.5           17         15      5.16   \n",
       "\n",
       "              Infant.Mortality  \n",
       "Courtelary                22.2  \n",
       "Delemont                  22.2  \n",
       "Franches-Mnt              20.2  \n",
       "Moutier                   20.3  \n",
       "Neuveville                20.6  "
      ]
     },
     "execution_count": 37,
     "metadata": {},
     "output_type": "execute_result"
    }
   ],
   "source": [
    "df.head()"
   ]
  },
  {
   "cell_type": "code",
   "execution_count": 38,
   "id": "d0e91245",
   "metadata": {},
   "outputs": [],
   "source": [
    "for col in df.columns:\n",
    "    df = df.rename(columns={col: col.lower().replace('.', '_')})"
   ]
  },
  {
   "cell_type": "code",
   "execution_count": 40,
   "id": "da740f61",
   "metadata": {},
   "outputs": [
    {
     "data": {
      "text/html": [
       "<div>\n",
       "<style scoped>\n",
       "    .dataframe tbody tr th:only-of-type {\n",
       "        vertical-align: middle;\n",
       "    }\n",
       "\n",
       "    .dataframe tbody tr th {\n",
       "        vertical-align: top;\n",
       "    }\n",
       "\n",
       "    .dataframe thead th {\n",
       "        text-align: right;\n",
       "    }\n",
       "</style>\n",
       "<table border=\"1\" class=\"dataframe\">\n",
       "  <thead>\n",
       "    <tr style=\"text-align: right;\">\n",
       "      <th></th>\n",
       "      <th>fertility</th>\n",
       "      <th>agriculture</th>\n",
       "      <th>examination</th>\n",
       "      <th>education</th>\n",
       "      <th>catholic</th>\n",
       "      <th>infant_mortality</th>\n",
       "    </tr>\n",
       "  </thead>\n",
       "  <tbody>\n",
       "    <tr>\n",
       "      <th>Courtelary</th>\n",
       "      <td>80.2</td>\n",
       "      <td>17.0</td>\n",
       "      <td>15</td>\n",
       "      <td>12</td>\n",
       "      <td>9.96</td>\n",
       "      <td>22.2</td>\n",
       "    </tr>\n",
       "    <tr>\n",
       "      <th>Delemont</th>\n",
       "      <td>83.1</td>\n",
       "      <td>45.1</td>\n",
       "      <td>6</td>\n",
       "      <td>9</td>\n",
       "      <td>84.84</td>\n",
       "      <td>22.2</td>\n",
       "    </tr>\n",
       "    <tr>\n",
       "      <th>Franches-Mnt</th>\n",
       "      <td>92.5</td>\n",
       "      <td>39.7</td>\n",
       "      <td>5</td>\n",
       "      <td>5</td>\n",
       "      <td>93.40</td>\n",
       "      <td>20.2</td>\n",
       "    </tr>\n",
       "    <tr>\n",
       "      <th>Moutier</th>\n",
       "      <td>85.8</td>\n",
       "      <td>36.5</td>\n",
       "      <td>12</td>\n",
       "      <td>7</td>\n",
       "      <td>33.77</td>\n",
       "      <td>20.3</td>\n",
       "    </tr>\n",
       "    <tr>\n",
       "      <th>Neuveville</th>\n",
       "      <td>76.9</td>\n",
       "      <td>43.5</td>\n",
       "      <td>17</td>\n",
       "      <td>15</td>\n",
       "      <td>5.16</td>\n",
       "      <td>20.6</td>\n",
       "    </tr>\n",
       "  </tbody>\n",
       "</table>\n",
       "</div>"
      ],
      "text/plain": [
       "              fertility  agriculture  examination  education  catholic  \\\n",
       "Courtelary         80.2         17.0           15         12      9.96   \n",
       "Delemont           83.1         45.1            6          9     84.84   \n",
       "Franches-Mnt       92.5         39.7            5          5     93.40   \n",
       "Moutier            85.8         36.5           12          7     33.77   \n",
       "Neuveville         76.9         43.5           17         15      5.16   \n",
       "\n",
       "              infant_mortality  \n",
       "Courtelary                22.2  \n",
       "Delemont                  22.2  \n",
       "Franches-Mnt              20.2  \n",
       "Moutier                   20.3  \n",
       "Neuveville                20.6  "
      ]
     },
     "execution_count": 40,
     "metadata": {},
     "output_type": "execute_result"
    }
   ],
   "source": [
    "df.head()"
   ]
  },
  {
   "cell_type": "code",
   "execution_count": 41,
   "id": "51f4db4b",
   "metadata": {},
   "outputs": [],
   "source": [
    "target = 'fertility'\n",
    "quant_features = [col for col in df.columns if (df[col].dtype != 'object') & (col != 'target')]"
   ]
  },
  {
   "cell_type": "code",
   "execution_count": 42,
   "id": "61b1eb32",
   "metadata": {},
   "outputs": [
    {
     "name": "stdout",
     "output_type": "stream",
     "text": [
      "train\t n = 25\n",
      "test\t n = 10\n",
      "validate n = 12\n"
     ]
    }
   ],
   "source": [
    "train,test,validate = wrangle.train_test_validate_split(df)"
   ]
  },
  {
   "cell_type": "code",
   "execution_count": 43,
   "id": "50383768",
   "metadata": {},
   "outputs": [],
   "source": [
    "#scale quant\n",
    "\n",
    "#DB for scaled features\n",
    "train_scaled = pd.DataFrame(index=train.index)\n",
    "validate_scaled = pd.DataFrame(index = validate.index)\n",
    "test_scaled = pd.DataFrame(index = test.index)\n",
    "\n",
    "#make and fit scaler\n",
    "scaler = MinMaxScaler().fit(train[quant_features])\n",
    "\n",
    "#addd scaled featuress to DF\n",
    "train_scaled[quant_features] = scaler.transform(train[quant_features])\n",
    "validate_scaled[quant_features] = scaler.transform(validate[quant_features])\n",
    "test_scaled[quant_features] = scaler.transform(test[quant_features])\n",
    "\n",
    "# add 'scaled' prefix to columns\n",
    "for feature in quant_features:\n",
    "    train_scaled = train_scaled.rename(columns={feature: f'scaled_{feature}'})\n",
    "    validate_scaled = validate_scaled.rename(columns={feature: f'scaled_{feature}'})\n",
    "    test_scaled = test_scaled.rename(columns={feature: f'scaled_{feature}'})\n",
    "    \n",
    "# concat scaled features to original train, validate, test df's\n",
    "train = pd.concat([train, train_scaled], axis=1)\n",
    "validate = pd.concat([validate, validate_scaled], axis=1)\n",
    "test = pd.concat([test, test_scaled], axis=1)\n",
    "\n",
    "#identify scaled features\n",
    "scaled_features = [col for col in train.columns if col.startswith('scaled_')]"
   ]
  },
  {
   "cell_type": "code",
   "execution_count": 44,
   "id": "9db9e033",
   "metadata": {},
   "outputs": [],
   "source": [
    "# divide samples into x and y using only model-appropriate (encoded and scaled) features for x\n",
    "\n",
    "x_train = train[scaled_features]\n",
    "y_train = train[target]\n",
    "\n",
    "x_validate = validate[scaled_features]\n",
    "y_validate = validate[target]\n",
    "\n",
    "x_test = test[scaled_features]\n",
    "y_test = test[target]"
   ]
  },
  {
   "cell_type": "code",
   "execution_count": 49,
   "id": "083f88db",
   "metadata": {},
   "outputs": [
    {
     "name": "stdout",
     "output_type": "stream",
     "text": [
      "kbest is ['scaled_fertility', 'scaled_examination', 'scaled_education']\n",
      " rfe is ['scaled_fertility', 'scaled_agriculture', 'scaled_catholic']\n"
     ]
    }
   ],
   "source": [
    "kbest_rfe(x_train,y_train, 3)"
   ]
  }
 ],
 "metadata": {
  "kernelspec": {
   "display_name": "Python 3 (ipykernel)",
   "language": "python",
   "name": "python3"
  },
  "language_info": {
   "codemirror_mode": {
    "name": "ipython",
    "version": 3
   },
   "file_extension": ".py",
   "mimetype": "text/x-python",
   "name": "python",
   "nbconvert_exporter": "python",
   "pygments_lexer": "ipython3",
   "version": "3.9.12"
  }
 },
 "nbformat": 4,
 "nbformat_minor": 5
}
